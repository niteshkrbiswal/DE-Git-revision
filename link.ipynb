{
 "cells": [
  {
   "cell_type": "code",
   "execution_count": null,
   "id": "9a82590a",
   "metadata": {},
   "outputs": [],
   "source": [
    "\"THis is a python file\""
   ]
  }
 ],
 "metadata": {
  "language_info": {
   "name": "python"
  }
 },
 "nbformat": 4,
 "nbformat_minor": 5
}
